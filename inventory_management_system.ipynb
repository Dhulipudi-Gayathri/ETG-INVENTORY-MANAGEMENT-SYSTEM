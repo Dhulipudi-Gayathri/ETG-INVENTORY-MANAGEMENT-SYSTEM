{
  "nbformat": 4,
  "nbformat_minor": 0,
  "metadata": {
    "colab": {
      "name": "inventory management system.ipynb",
      "provenance": [],
      "collapsed_sections": []
    },
    "kernelspec": {
      "name": "python3",
      "display_name": "Python 3"
    },
    "language_info": {
      "name": "python"
    }
  },
  "cells": [
    {
      "cell_type": "code",
      "metadata": {
        "id": "Kd4UAIYW-8D1"
      },
      "source": [
        "Data={100:{'product_name':'sprite','category':'Drinks','price':20,'Qantity':100,'Expiry_Date':'12-DEC-2021'},\n",
        "      101:{'product_name':'limka','category':'Drinks','price':20,'Qantity':100,'Expiry_Date':'12-DEC-2021'},\n",
        "      102:{'product_name':'mazza','category':'Drinks','price':20,'Qantity':100,'Expiry_Date':'12-DEC-2021'},\n",
        "      103:{'product_name':'red bull','category':'Drinks','price':20,'Qantity':100,'Expiry_Date':'12-DEC-2021'},\n",
        "      104:{'product_name':'Thumps-up','category':'Drinks','price':20,'Qantity':100,'Expiry_Date':'12-DEC-2021'},\n",
        "      105:{'product_name':'coke','category':'Drinks','price':20,'Qantity':100,'Expiry_Date':'12-DEC-2021'},\n",
        "      106:{'product_name':'pepsi','category':'Drinks','price':20,'Qantity':100,'Expiry_Date':'12-DEC-2021'},\n",
        "      107:{'product_name':'dew','category':'Drinks','price':20,'Qantity':100,'Expiry_Date':'12-DEC-2021'},\n",
        "      108:{'product_name':'fizz','category':'Drinks','price':20,'Qantity':100,'Expiry_Date':'12-DEC-2021'},\n",
        "      109:{'product_name':'fanta','category':'Drinks','price':20,'Qantity':100,'Expiry_Date':'12-DEC-2021'},\n",
        "      110:{'product_name':'pulpy orange','category':'Drinks','price':20,'Qantity':100,'Expiry_Date':'12-DEC-2021'},\n",
        "      111:{'product_name':'monster','category':'Drinks','price':20,'Qantity':100,'Expiry_Date':'12-DEC-2021'},\n",
        "\n",
        "      112:{'product_name':'snickers','category':'chocolates','price':20,'Qantity':100,'Expiry_Date':'12-DEC-2021'},\n",
        "      113:{'product_name':'kitkat','category':'chocolates','price':20,'Qantity':100,'Expiry_Date':'12-DEC-2021'},\n",
        "      114:{'product_name':'Dairy milk','category':'chocolates','price':20,'Qantity':100,'Expiry_Date':'12-DEC-2021'},\n",
        "      115:{'product_name':'five star','category':'chocolates','price':20,'Qantity':100,'Expiry_Date':'12-DEC-2021'},\n",
        "      116:{'product_name':'bounty','category':'chocolates','price':20,'Qantity':100,'Expiry_Date':'12-DEC-2021'},\n",
        "      117:{'product_name':'flake','category':'chocolates','price':20,'Qantity':100,'Expiry_Date':'12-DEC-2021'},\n",
        "      118:{'product_name':'aero','category':'chocolates','price':20,'Qantity':100,'Expiry_Date':'12-DEC-2021'},\n",
        "      119:{'product_name':'milky bar','category':'chocolates','price':20,'Qantity':100,'Expiry_Date':'12-DEC-2021'},\n",
        "\n",
        "      120:{'product_name':'apple','category':'fruits','price':20,'Qantity':100,'Expiry_Date':'12-DEC-2021'},\n",
        "      121:{'product_name':'green apple','category':'fruits','price':20,'Qantity':100,'Expiry_Date':'12-DEC-2021'},\n",
        "      122:{'product_name':'grapes','category':'fruits','price':20,'Qantity':100,'Expiry_Date':'12-DEC-2021'},\n",
        "      123:{'product_name':'banana','category':'fruits','price':20,'Qantity':100,'Expiry_Date':'12-DEC-2021'},\n",
        "      124:{'product_name':'pappaya','category':'fruits','price':20,'Qantity':100,'Expiry_Date':'12-DEC-2021'},\n",
        "\n",
        "      125:{'product_name':'dark fantasy','category':'biscuts','price':20,'Qantity':100,'Expiry_Date':'12-DEC-2021'},\n",
        "      126:{'product_name':'good day','category':'biscuts','price':20,'Qantity':100,'Expiry_Date':'12-DEC-2021'},\n",
        "      127:{'product_name':'parly-G','category':'biscuts','price':20,'Qantity':100,'Expiry_Date':'12-DEC-2021'},\n",
        "      128:{'product_name':'milk cookies','category':'biscuts','price':20,'Qantity':100,'Expiry_Date':'12-DEC-2021'},\n",
        "      129:{'product_name':'oreo','category':'biscuts','price':20,'Qantity':100,'Expiry_Date':'12-DEC-2021'},\n",
        "\n",
        "      130:{'product_name':'sweet samosa','category':'samosa','price':20,'Qantity':50,'Expiry_Date':'12-DEC-2021'},\n",
        "      131:{'product_name':'corn samosa','category':'samosa','price':20,'Qantity':30,'Expiry_Date':'12-DEC-2021'}\n",
        "\n",
        "\n",
        "\n",
        "      }\n"
      ],
      "execution_count": 8,
      "outputs": []
    },
    {
      "cell_type": "code",
      "metadata": {
        "id": "ZXxuja3rXC7Q"
      },
      "source": [
        "import json\n",
        "js=json.dumps(Data)\n",
        "file=open(\"product.json\",'w')\n",
        "file.write(js)\n",
        "file.close()\n"
      ],
      "execution_count": 9,
      "outputs": []
    },
    {
      "cell_type": "code",
      "metadata": {
        "id": "0eQ4Z-ppf2ou"
      },
      "source": [
        "file=open(\"product.json\",'r')\n",
        "re=file. read()\n",
        "file.close()\n"
      ],
      "execution_count": 10,
      "outputs": []
    },
    {
      "cell_type": "code",
      "metadata": {
        "id": "NNMObXzohEUB"
      },
      "source": [
        "record=json.loads(re)\n"
      ],
      "execution_count": 11,
      "outputs": []
    },
    {
      "cell_type": "code",
      "metadata": {
        "colab": {
          "base_uri": "https://localhost:8080/",
          "height": 128
        },
        "id": "zlB_rFXNhmNl",
        "outputId": "aa3f7d50-3c56-44cc-e278-35c3bbcd697b"
      },
      "source": [
        "A=input('Do you want to purchase enter \"p\" or Do you want to Add items enter \"Add\" ')\n",
        "if(A==\"p\"):\n",
        "id = input(\"enter product id\")\n",
        "if(id<100 and id>130):\n",
        "print(\"invalid id\")\n",
        "else:\n",
        "if(id in record.keys()):\n",
        "qn=input(\"enter quantity\")\n",
        "if(qn>record[id][quantity]):\n",
        "print(\"sorry,we have only\",record[id][qn],\"items\")\n",
        "else:\n",
        "print(\"product id\",id)\n",
        "print(\"product name=\",record[id][name])\n",
        "print(\"product price\",record[id][price])\n",
        "print(\"product type\",record[id][category])\n",
        "print(\"product quantity\",qn)\n",
        "print(\"amount=\",record[id][price]*qn)\n",
        "record[id][quantity]-=qn\n",
        "else if(A==\"Add\"):\n",
        "id=input(\"enter id\")\n",
        "if(id in record.keys()):\n",
        "qn=int(input(\"enter quantity\"))\n",
        "record[id]['quantity']+=qn\n",
        "else:\n",
        "name=input(\"Enter the product\")\n",
        "category=input(\"Enter category\")\n",
        "price=int(input(\"enter price\"))\n",
        "expiry_date=input(\"enter expiry date\")\n",
        "quantity=int(input(\"enter quantity\"))\n",
        "record[id]={\"product_name\":product_name,\"category\":category,\"price\":price,\"quantity\":quantity,\"expiry_date\":expiry_date}\n",
        "\n",
        "\n"
      ],
      "execution_count": 13,
      "outputs": [
        {
          "output_type": "error",
          "ename": "IndentationError",
          "evalue": "ignored",
          "traceback": [
            "\u001b[0;36m  File \u001b[0;32m\"<ipython-input-13-5d92a4c238c8>\"\u001b[0;36m, line \u001b[0;32m3\u001b[0m\n\u001b[0;31m    id = input(\"enter product id\")\u001b[0m\n\u001b[0m     ^\u001b[0m\n\u001b[0;31mIndentationError\u001b[0m\u001b[0;31m:\u001b[0m expected an indented block\n"
          ]
        }
      ]
    },
    {
      "cell_type": "code",
      "metadata": {
        "id": "85OjRyfn11-9"
      },
      "source": [
        ""
      ],
      "execution_count": null,
      "outputs": []
    }
  ]
}