{
  "nbformat": 4,
  "nbformat_minor": 0,
  "metadata": {
    "colab": {
      "name": "Inventory management system.ipynb",
      "provenance": [],
      "collapsed_sections": []
    },
    "kernelspec": {
      "name": "python3",
      "display_name": "Python 3"
    },
    "language_info": {
      "name": "python"
    }
  },
  "cells": [
    {
      "cell_type": "code",
      "metadata": {
        "id": "ZRArpDBc6EVq"
      },
      "source": [
        "Data={\"100\": {\"product_name\": \"sprite\", \"category\": \"Drinks\", \"price\": 20, \"Qantity\": 100, \"Expiry_Date\": \"12-DEC-2021\"}, \"101\": {\"product_name\": \"limka\", \"category\": \"Drinks\", \"price\": 20, \"Qantity\": 100, \"Expiry_Date\": \"12-DEC-2021\"}, \"102\": {\"product_name\": \"mazza\", \"category\": \"Drinks\", \"price\": 20, \"Qantity\": 100, \"Expiry_Date\": \"12-DEC-2021\"}, \"103\": {\"product_name\": \"red bull\", \"category\": \"Drinks\", \"price\": 20, \"Qantity\": 100, \"Expiry_Date\": \"12-DEC-2021\"}, \"104\": {\"product_name\": \"Thumps-up\", \"category\": \"Drinks\", \"price\": 20, \"Qantity\": 100, \"Expiry_Date\": \"12-DEC-2021\"}, \"105\": {\"product_name\": \"coke\", \"category\": \"Drinks\", \"price\": 20, \"Qantity\": 100, \"Expiry_Date\": \"12-DEC-2021\"}, \"106\": {\"product_name\": \"pepsi\", \"category\": \"Drinks\", \"price\": 20, \"Qantity\": 100, \"Expiry_Date\": \"12-DEC-2021\"}, \"107\": {\"product_name\": \"dew\", \"category\": \"Drinks\", \"price\": 20, \"Qantity\": 100, \"Expiry_Date\": \"12-DEC-2021\"}, \"108\": {\"product_name\": \"fizz\", \"category\": \"Drinks\", \"price\": 20, \"Qantity\": 100, \"Expiry_Date\": \"12-DEC-2021\"}, \"109\": {\"product_name\": \"fanta\", \"category\": \"Drinks\", \"price\": 20, \"Qantity\": 100, \"Expiry_Date\": \"12-DEC-2021\"}, \"110\": {\"product_name\": \"pulpy orange\", \"category\": \"Drinks\", \"price\": 20, \"Qantity\": 100, \"Expiry_Date\": \"12-DEC-2021\"}, \"111\": {\"product_name\": \"monster\", \"category\": \"Drinks\", \"price\": 20, \"Qantity\": 100, \"Expiry_Date\": \"12-DEC-2021\"}, \"112\": {\"product_name\": \"snickers\", \"category\": \"chocolates\", \"price\": 20, \"Qantity\": 100, \"Expiry_Date\": \"12-DEC-2021\"}, \"113\": {\"product_name\": \"kitkat\", \"category\": \"chocolates\", \"price\": 20, \"Qantity\": 100, \"Expiry_Date\": \"12-DEC-2021\"}, \"114\": {\"product_name\": \"Dairy milk\", \"category\": \"chocolates\", \"price\": 20, \"Qantity\": 100, \"Expiry_Date\": \"12-DEC-2021\"}, \"115\": {\"product_name\": \"five star\", \"category\": \"chocolates\", \"price\": 20, \"Qantity\": 100, \"Expiry_Date\": \"12-DEC-2021\"}, \"116\": {\"product_name\": \"bounty\", \"category\": \"chocolates\", \"price\": 20, \"Qantity\": 100, \"Expiry_Date\": \"12-DEC-2021\"}, \"117\": {\"product_name\": \"flake\", \"category\": \"chocolates\", \"price\": 20, \"Qantity\": 100, \"Expiry_Date\": \"12-DEC-2021\"}, \"118\": {\"product_name\": \"aero\", \"category\": \"chocolates\", \"price\": 20, \"Qantity\": 100, \"Expiry_Date\": \"12-DEC-2021\"}, \"119\": {\"product_name\": \"milky bar\", \"category\": \"chocolates\", \"price\": 20, \"Qantity\": 100, \"Expiry_Date\": \"12-DEC-2021\"}, \"120\": {\"product_name\": \"apple\", \"category\": \"fruits\", \"price\": 20, \"Qantity\": 100, \"Expiry_Date\": \"12-DEC-2021\"}, \"121\": {\"product_name\": \"green apple\", \"category\": \"fruits\", \"price\": 20, \"Qantity\": 100, \"Expiry_Date\": \"12-DEC-2021\"}, \"122\": {\"product_name\": \"grapes\", \"category\": \"fruits\", \"price\": 20, \"Qantity\": 100, \"Expiry_Date\": \"12-DEC-2021\"}, \"123\": {\"product_name\": \"banana\", \"category\": \"fruits\", \"price\": 20, \"Qantity\": 100, \"Expiry_Date\": \"12-DEC-2021\"}, \"124\": {\"product_name\": \"pappaya\", \"category\": \"fruits\", \"price\": 20, \"Qantity\": 100, \"Expiry_Date\": \"12-DEC-2021\"}, \"125\": {\"product_name\": \"dark fantasy\", \"category\": \"biscuts\", \"price\": 20, \"Qantity\": 100, \"Expiry_Date\": \"12-DEC-2021\"}, \"126\": {\"product_name\": \"good day\", \"category\": \"biscuts\", \"price\": 20, \"Qantity\": 100, \"Expiry_Date\": \"12-DEC-2021\"}, \"127\": {\"product_name\": \"parly-G\", \"category\": \"biscuts\", \"price\": 20, \"Qantity\": 100, \"Expiry_Date\": \"12-DEC-2021\"}, \"128\": {\"product_name\": \"milk cookies\", \"category\": \"biscuts\", \"price\": 20, \"Qantity\": 100, \"Expiry_Date\": \"12-DEC-2021\"}, \"129\": {\"product_name\": \"oreo\", \"category\": \"biscuts\", \"price\": 20, \"Qantity\": 100, \"Expiry_Date\": \"12-DEC-2021\"}, \"130\": {\"product_name\": \"sweet samosa\", \"category\": \"samosa\", \"price\": 20, \"Qantity\": 50, \"Expiry_Date\": \"12-DEC-2021\"}, \"131\": {\"product_name\": \"corn samosa\", \"category\": \"samosa\", \"price\": 20, \"Qantity\": 30, \"Expiry_Date\": \"12-DEC-2021\"}}"
      ],
      "execution_count": null,
      "outputs": []
    },
    {
      "cell_type": "code",
      "metadata": {
        "colab": {
          "base_uri": "https://localhost:8080/"
        },
        "id": "0opbHk-Vtj_6",
        "outputId": "2d8f3dde-4a69-4b3e-f496-b6808274a1d6"
      },
      "source": [
        "Data['100']"
      ],
      "execution_count": null,
      "outputs": [
        {
          "output_type": "execute_result",
          "data": {
            "text/plain": [
              "{'Expiry_Date': '12-DEC-2021',\n",
              " 'Qantity': 100,\n",
              " 'category': 'Drinks',\n",
              " 'price': 20,\n",
              " 'product_name': 'sprite'}"
            ]
          },
          "metadata": {},
          "execution_count": 2
        }
      ]
    },
    {
      "cell_type": "code",
      "metadata": {
        "id": "Y6ETyM1VOYzg"
      },
      "source": [
        "import json\n",
        "from datetime import date\n",
        "Js=json.dumps(Data)"
      ],
      "execution_count": null,
      "outputs": []
    },
    {
      "cell_type": "code",
      "metadata": {
        "colab": {
          "base_uri": "https://localhost:8080/",
          "height": 782
        },
        "id": "EFET_HIwHDOS",
        "outputId": "86ce997c-f769-4608-fbda-cbdc7ece9907"
      },
      "source": [
        "Js"
      ],
      "execution_count": null,
      "outputs": [
        {
          "output_type": "execute_result",
          "data": {
            "application/vnd.google.colaboratory.intrinsic+json": {
              "type": "string"
            },
            "text/plain": [
              "'{\"100\": {\"product_name\": \"sprite\", \"category\": \"Drinks\", \"price\": 20, \"Qantity\": 100, \"Expiry_Date\": \"12-DEC-2021\"}, \"101\": {\"product_name\": \"limka\", \"category\": \"Drinks\", \"price\": 20, \"Qantity\": 100, \"Expiry_Date\": \"12-DEC-2021\"}, \"102\": {\"product_name\": \"mazza\", \"category\": \"Drinks\", \"price\": 20, \"Qantity\": 100, \"Expiry_Date\": \"12-DEC-2021\"}, \"103\": {\"product_name\": \"red bull\", \"category\": \"Drinks\", \"price\": 20, \"Qantity\": 100, \"Expiry_Date\": \"12-DEC-2021\"}, \"104\": {\"product_name\": \"Thumps-up\", \"category\": \"Drinks\", \"price\": 20, \"Qantity\": 100, \"Expiry_Date\": \"12-DEC-2021\"}, \"105\": {\"product_name\": \"coke\", \"category\": \"Drinks\", \"price\": 20, \"Qantity\": 100, \"Expiry_Date\": \"12-DEC-2021\"}, \"106\": {\"product_name\": \"pepsi\", \"category\": \"Drinks\", \"price\": 20, \"Qantity\": 100, \"Expiry_Date\": \"12-DEC-2021\"}, \"107\": {\"product_name\": \"dew\", \"category\": \"Drinks\", \"price\": 20, \"Qantity\": 100, \"Expiry_Date\": \"12-DEC-2021\"}, \"108\": {\"product_name\": \"fizz\", \"category\": \"Drinks\", \"price\": 20, \"Qantity\": 100, \"Expiry_Date\": \"12-DEC-2021\"}, \"109\": {\"product_name\": \"fanta\", \"category\": \"Drinks\", \"price\": 20, \"Qantity\": 100, \"Expiry_Date\": \"12-DEC-2021\"}, \"110\": {\"product_name\": \"pulpy orange\", \"category\": \"Drinks\", \"price\": 20, \"Qantity\": 100, \"Expiry_Date\": \"12-DEC-2021\"}, \"111\": {\"product_name\": \"monster\", \"category\": \"Drinks\", \"price\": 20, \"Qantity\": 100, \"Expiry_Date\": \"12-DEC-2021\"}, \"112\": {\"product_name\": \"snickers\", \"category\": \"chocolates\", \"price\": 20, \"Qantity\": 100, \"Expiry_Date\": \"12-DEC-2021\"}, \"113\": {\"product_name\": \"kitkat\", \"category\": \"chocolates\", \"price\": 20, \"Qantity\": 100, \"Expiry_Date\": \"12-DEC-2021\"}, \"114\": {\"product_name\": \"Dairy milk\", \"category\": \"chocolates\", \"price\": 20, \"Qantity\": 100, \"Expiry_Date\": \"12-DEC-2021\"}, \"115\": {\"product_name\": \"five star\", \"category\": \"chocolates\", \"price\": 20, \"Qantity\": 100, \"Expiry_Date\": \"12-DEC-2021\"}, \"116\": {\"product_name\": \"bounty\", \"category\": \"chocolates\", \"price\": 20, \"Qantity\": 100, \"Expiry_Date\": \"12-DEC-2021\"}, \"117\": {\"product_name\": \"flake\", \"category\": \"chocolates\", \"price\": 20, \"Qantity\": 100, \"Expiry_Date\": \"12-DEC-2021\"}, \"118\": {\"product_name\": \"aero\", \"category\": \"chocolates\", \"price\": 20, \"Qantity\": 100, \"Expiry_Date\": \"12-DEC-2021\"}, \"119\": {\"product_name\": \"milky bar\", \"category\": \"chocolates\", \"price\": 20, \"Qantity\": 100, \"Expiry_Date\": \"12-DEC-2021\"}, \"120\": {\"product_name\": \"apple\", \"category\": \"fruits\", \"price\": 20, \"Qantity\": 100, \"Expiry_Date\": \"12-DEC-2021\"}, \"121\": {\"product_name\": \"green apple\", \"category\": \"fruits\", \"price\": 20, \"Qantity\": 100, \"Expiry_Date\": \"12-DEC-2021\"}, \"122\": {\"product_name\": \"grapes\", \"category\": \"fruits\", \"price\": 20, \"Qantity\": 100, \"Expiry_Date\": \"12-DEC-2021\"}, \"123\": {\"product_name\": \"banana\", \"category\": \"fruits\", \"price\": 20, \"Qantity\": 100, \"Expiry_Date\": \"12-DEC-2021\"}, \"124\": {\"product_name\": \"pappaya\", \"category\": \"fruits\", \"price\": 20, \"Qantity\": 100, \"Expiry_Date\": \"12-DEC-2021\"}, \"125\": {\"product_name\": \"dark fantasy\", \"category\": \"biscuts\", \"price\": 20, \"Qantity\": 100, \"Expiry_Date\": \"12-DEC-2021\"}, \"126\": {\"product_name\": \"good day\", \"category\": \"biscuts\", \"price\": 20, \"Qantity\": 100, \"Expiry_Date\": \"12-DEC-2021\"}, \"127\": {\"product_name\": \"parly-G\", \"category\": \"biscuts\", \"price\": 20, \"Qantity\": 100, \"Expiry_Date\": \"12-DEC-2021\"}, \"128\": {\"product_name\": \"milk cookies\", \"category\": \"biscuts\", \"price\": 20, \"Qantity\": 100, \"Expiry_Date\": \"12-DEC-2021\"}, \"129\": {\"product_name\": \"oreo\", \"category\": \"biscuts\", \"price\": 20, \"Qantity\": 100, \"Expiry_Date\": \"12-DEC-2021\"}, \"130\": {\"product_name\": \"sweet samosa\", \"category\": \"samosa\", \"price\": 20, \"Qantity\": 50, \"Expiry_Date\": \"12-DEC-2021\"}, \"131\": {\"product_name\": \"corn samosa\", \"category\": \"samosa\", \"price\": 20, \"Qantity\": 30, \"Expiry_Date\": \"12-DEC-2021\"}}'"
            ]
          },
          "metadata": {},
          "execution_count": 4
        }
      ]
    },
    {
      "cell_type": "code",
      "metadata": {
        "id": "qeF74sLMO5hy"
      },
      "source": [
        "file=open(\"prod.json\",'w')\n",
        "file.write(Js)\n",
        "file.close()"
      ],
      "execution_count": null,
      "outputs": []
    },
    {
      "cell_type": "code",
      "metadata": {
        "id": "22k0uLnFWya1"
      },
      "source": [
        "fd=open(\"prod.json\",'r')\n",
        "r=fd.read()\n",
        "fd.close()\n",
        "records=json.loads(r)"
      ],
      "execution_count": null,
      "outputs": []
    },
    {
      "cell_type": "code",
      "metadata": {
        "colab": {
          "base_uri": "https://localhost:8080/"
        },
        "id": "AIR4LoruXN0h",
        "outputId": "c43b80b0-f66c-4d97-f354-b69adaf16643"
      },
      "source": [
        "records"
      ],
      "execution_count": null,
      "outputs": [
        {
          "output_type": "execute_result",
          "data": {
            "text/plain": [
              "{'100': {'Expiry_Date': '12-DEC-2021',\n",
              "  'Qantity': 100,\n",
              "  'category': 'Drinks',\n",
              "  'price': 20,\n",
              "  'product_name': 'sprite'},\n",
              " '101': {'Expiry_Date': '12-DEC-2021',\n",
              "  'Qantity': 100,\n",
              "  'category': 'Drinks',\n",
              "  'price': 20,\n",
              "  'product_name': 'limka'},\n",
              " '102': {'Expiry_Date': '12-DEC-2021',\n",
              "  'Qantity': 100,\n",
              "  'category': 'Drinks',\n",
              "  'price': 20,\n",
              "  'product_name': 'mazza'},\n",
              " '103': {'Expiry_Date': '12-DEC-2021',\n",
              "  'Qantity': 100,\n",
              "  'category': 'Drinks',\n",
              "  'price': 20,\n",
              "  'product_name': 'red bull'},\n",
              " '104': {'Expiry_Date': '12-DEC-2021',\n",
              "  'Qantity': 100,\n",
              "  'category': 'Drinks',\n",
              "  'price': 20,\n",
              "  'product_name': 'Thumps-up'},\n",
              " '105': {'Expiry_Date': '12-DEC-2021',\n",
              "  'Qantity': 100,\n",
              "  'category': 'Drinks',\n",
              "  'price': 20,\n",
              "  'product_name': 'coke'},\n",
              " '106': {'Expiry_Date': '12-DEC-2021',\n",
              "  'Qantity': 100,\n",
              "  'category': 'Drinks',\n",
              "  'price': 20,\n",
              "  'product_name': 'pepsi'},\n",
              " '107': {'Expiry_Date': '12-DEC-2021',\n",
              "  'Qantity': 100,\n",
              "  'category': 'Drinks',\n",
              "  'price': 20,\n",
              "  'product_name': 'dew'},\n",
              " '108': {'Expiry_Date': '12-DEC-2021',\n",
              "  'Qantity': 100,\n",
              "  'category': 'Drinks',\n",
              "  'price': 20,\n",
              "  'product_name': 'fizz'},\n",
              " '109': {'Expiry_Date': '12-DEC-2021',\n",
              "  'Qantity': 100,\n",
              "  'category': 'Drinks',\n",
              "  'price': 20,\n",
              "  'product_name': 'fanta'},\n",
              " '110': {'Expiry_Date': '12-DEC-2021',\n",
              "  'Qantity': 100,\n",
              "  'category': 'Drinks',\n",
              "  'price': 20,\n",
              "  'product_name': 'pulpy orange'},\n",
              " '111': {'Expiry_Date': '12-DEC-2021',\n",
              "  'Qantity': 100,\n",
              "  'category': 'Drinks',\n",
              "  'price': 20,\n",
              "  'product_name': 'monster'},\n",
              " '112': {'Expiry_Date': '12-DEC-2021',\n",
              "  'Qantity': 100,\n",
              "  'category': 'chocolates',\n",
              "  'price': 20,\n",
              "  'product_name': 'snickers'},\n",
              " '113': {'Expiry_Date': '12-DEC-2021',\n",
              "  'Qantity': 100,\n",
              "  'category': 'chocolates',\n",
              "  'price': 20,\n",
              "  'product_name': 'kitkat'},\n",
              " '114': {'Expiry_Date': '12-DEC-2021',\n",
              "  'Qantity': 100,\n",
              "  'category': 'chocolates',\n",
              "  'price': 20,\n",
              "  'product_name': 'Dairy milk'},\n",
              " '115': {'Expiry_Date': '12-DEC-2021',\n",
              "  'Qantity': 100,\n",
              "  'category': 'chocolates',\n",
              "  'price': 20,\n",
              "  'product_name': 'five star'},\n",
              " '116': {'Expiry_Date': '12-DEC-2021',\n",
              "  'Qantity': 100,\n",
              "  'category': 'chocolates',\n",
              "  'price': 20,\n",
              "  'product_name': 'bounty'},\n",
              " '117': {'Expiry_Date': '12-DEC-2021',\n",
              "  'Qantity': 100,\n",
              "  'category': 'chocolates',\n",
              "  'price': 20,\n",
              "  'product_name': 'flake'},\n",
              " '118': {'Expiry_Date': '12-DEC-2021',\n",
              "  'Qantity': 100,\n",
              "  'category': 'chocolates',\n",
              "  'price': 20,\n",
              "  'product_name': 'aero'},\n",
              " '119': {'Expiry_Date': '12-DEC-2021',\n",
              "  'Qantity': 100,\n",
              "  'category': 'chocolates',\n",
              "  'price': 20,\n",
              "  'product_name': 'milky bar'},\n",
              " '120': {'Expiry_Date': '12-DEC-2021',\n",
              "  'Qantity': 100,\n",
              "  'category': 'fruits',\n",
              "  'price': 20,\n",
              "  'product_name': 'apple'},\n",
              " '121': {'Expiry_Date': '12-DEC-2021',\n",
              "  'Qantity': 100,\n",
              "  'category': 'fruits',\n",
              "  'price': 20,\n",
              "  'product_name': 'green apple'},\n",
              " '122': {'Expiry_Date': '12-DEC-2021',\n",
              "  'Qantity': 100,\n",
              "  'category': 'fruits',\n",
              "  'price': 20,\n",
              "  'product_name': 'grapes'},\n",
              " '123': {'Expiry_Date': '12-DEC-2021',\n",
              "  'Qantity': 100,\n",
              "  'category': 'fruits',\n",
              "  'price': 20,\n",
              "  'product_name': 'banana'},\n",
              " '124': {'Expiry_Date': '12-DEC-2021',\n",
              "  'Qantity': 100,\n",
              "  'category': 'fruits',\n",
              "  'price': 20,\n",
              "  'product_name': 'pappaya'},\n",
              " '125': {'Expiry_Date': '12-DEC-2021',\n",
              "  'Qantity': 100,\n",
              "  'category': 'biscuts',\n",
              "  'price': 20,\n",
              "  'product_name': 'dark fantasy'},\n",
              " '126': {'Expiry_Date': '12-DEC-2021',\n",
              "  'Qantity': 100,\n",
              "  'category': 'biscuts',\n",
              "  'price': 20,\n",
              "  'product_name': 'good day'},\n",
              " '127': {'Expiry_Date': '12-DEC-2021',\n",
              "  'Qantity': 100,\n",
              "  'category': 'biscuts',\n",
              "  'price': 20,\n",
              "  'product_name': 'parly-G'},\n",
              " '128': {'Expiry_Date': '12-DEC-2021',\n",
              "  'Qantity': 100,\n",
              "  'category': 'biscuts',\n",
              "  'price': 20,\n",
              "  'product_name': 'milk cookies'},\n",
              " '129': {'Expiry_Date': '12-DEC-2021',\n",
              "  'Qantity': 100,\n",
              "  'category': 'biscuts',\n",
              "  'price': 20,\n",
              "  'product_name': 'oreo'},\n",
              " '130': {'Expiry_Date': '12-DEC-2021',\n",
              "  'Qantity': 50,\n",
              "  'category': 'samosa',\n",
              "  'price': 20,\n",
              "  'product_name': 'sweet samosa'},\n",
              " '131': {'Expiry_Date': '12-DEC-2021',\n",
              "  'Qantity': 30,\n",
              "  'category': 'samosa',\n",
              "  'price': 20,\n",
              "  'product_name': 'corn samosa'}}"
            ]
          },
          "metadata": {},
          "execution_count": 7
        }
      ]
    },
    {
      "cell_type": "code",
      "metadata": {
        "colab": {
          "base_uri": "https://localhost:8080/"
        },
        "id": "o7JxvLbly3m_",
        "outputId": "cd9e9d17-8d67-4242-a151-36f674d2151a"
      },
      "source": [
        "records['100']"
      ],
      "execution_count": null,
      "outputs": [
        {
          "output_type": "execute_result",
          "data": {
            "text/plain": [
              "{'Expiry_Date': '12-DEC-2021',\n",
              " 'Qantity': 100,\n",
              " 'category': 'Drinks',\n",
              " 'price': 20,\n",
              " 'product_name': 'sprite'}"
            ]
          },
          "metadata": {},
          "execution_count": 8
        }
      ]
    },
    {
      "cell_type": "code",
      "metadata": {
        "id": "0DFS8wp1yGB9"
      },
      "source": [
        "sales={}"
      ],
      "execution_count": null,
      "outputs": []
    },
    {
      "cell_type": "markdown",
      "metadata": {
        "id": "ey68DybOuft3"
      },
      "source": [
        "# purchasing items"
      ]
    },
    {
      "cell_type": "code",
      "metadata": {
        "colab": {
          "base_uri": "https://localhost:8080/"
        },
        "id": "ig2w4mhj-k_a",
        "outputId": "aa746ee6-6e2a-466b-87ad-824fa8cd3a47"
      },
      "source": [
        "id=input(\"enter product ID:\")\n",
        "qn=int(input(\"enter quantity:\"))\n",
        "if (id in records.keys()):\n",
        "  print(\"***************************************\")\n",
        "  print()\n",
        "  print(\"     product : \",records[id]['product_name'])\n",
        "  print(\"     Price : \", records[id]['price'])\n",
        "  print(\"     expiry date : \",records[id]['Expiry_Date'])\n",
        "  print(\"     category : \", records[id]['category'])\n",
        "  print(\"     Billing Amount : \", records[id]['price'] * qn)\n",
        "  print()\n",
        "  print(\"***************************************\")\n",
        "  records[id]['Qantity']=records[id]['Qantity']-qn\n",
        "  sales[id]={\"product\":records[id]['product_name'],\"pr\":records[id]['price'],\"category\":records[id]['category'],\"billingAmount\":records[id]['price'] * qn}\n",
        "  sal=json.dumps(sales)\n",
        "  f=open(\"sales.json\",\"w\")\n",
        "  f.write(sal)\n",
        "  f.close()\n",
        "  Js=json.dumps(records)\n",
        "  fd=open(\"prod.json\",'w')\n",
        "  fd.write(Js)\n",
        "  fd.close()\n",
        "else:\n",
        "  print(\"enter valid ID\")"
      ],
      "execution_count": null,
      "outputs": [
        {
          "output_type": "stream",
          "name": "stdout",
          "text": [
            "enter product ID:100\n",
            "enter quantity:2\n",
            "***************************************\n",
            "\n",
            "     product :  sprite\n",
            "     Price :  20\n",
            "     expiry date :  12-DEC-2021\n",
            "     category :  Drinks\n",
            "     Billing Amount :  40\n",
            "\n",
            "***************************************\n"
          ]
        }
      ]
    },
    {
      "cell_type": "markdown",
      "metadata": {
        "id": "wYqC29RT_cfA"
      },
      "source": [
        "# Adding new items into dataset"
      ]
    },
    {
      "cell_type": "code",
      "metadata": {
        "colab": {
          "base_uri": "https://localhost:8080/"
        },
        "id": "dK-VLt0u_gOv",
        "outputId": "78518cb6-7bd5-4470-be1e-4e3ab7dfd623"
      },
      "source": [
        "id=input(\"enter product id\")\n",
        "name=input(\" enter product name  \")\n",
        "pr=int(input(\" enter product Price : \"))\n",
        "ex=input(\" enter expiry date : \")\n",
        "cat=input(\"Enter category : \")\n",
        "records[id]={'product_name':name,'price':pr,'Expiry_Date':ex,'category':cat}\n",
        "Js=json.dumps(records)\n",
        "fd=open(\"prod.json\",'w')\n",
        "fd.write(Js)\n",
        "fd.close()\n",
        "print(\"******NEW ITEM IS ADDED INTO DATASET******\")"
      ],
      "execution_count": null,
      "outputs": [
        {
          "output_type": "stream",
          "name": "stdout",
          "text": [
            "enter product id132\n",
            " enter product name  Cake\n",
            " enter product Price : 250\n",
            " enter expiry date : 26-09-2021\n",
            "Enter category : Cakes\n",
            "******NEW ITEM IS ADDED INTO DATASET******\n"
          ]
        }
      ]
    },
    {
      "cell_type": "code",
      "metadata": {
        "id": "mFRCxgVGyaaD"
      },
      "source": [
        "fd=open(\"sales.json\",'r')\n",
        "r=fd.read()\n",
        "fd.close()\n",
        "sale=json.loads(r)"
      ],
      "execution_count": null,
      "outputs": []
    },
    {
      "cell_type": "code",
      "metadata": {
        "colab": {
          "base_uri": "https://localhost:8080/"
        },
        "id": "3dxbN0ubyg8b",
        "outputId": "3392b5b7-f1eb-4102-b2c9-3a3752c095c3"
      },
      "source": [
        "sale"
      ],
      "execution_count": null,
      "outputs": [
        {
          "output_type": "execute_result",
          "data": {
            "text/plain": [
              "{'100': {'billingAmount': 40,\n",
              "  'category': 'Drinks',\n",
              "  'pr': 20,\n",
              "  'product': 'sprite'}}"
            ]
          },
          "metadata": {},
          "execution_count": 17
        }
      ]
    },
    {
      "cell_type": "code",
      "metadata": {
        "id": "3wkSXFR9GbbT"
      },
      "source": [
        "fd=open(\"prod.json\",'r')\n",
        "r=fd.read()\n",
        "fd.close()\n",
        "records=json.loads(r)"
      ],
      "execution_count": null,
      "outputs": []
    },
    {
      "cell_type": "code",
      "metadata": {
        "colab": {
          "base_uri": "https://localhost:8080/"
        },
        "id": "y2bKuZbcGmRD",
        "outputId": "d21c7739-4527-42af-cb8c-df8d9f9c873d"
      },
      "source": [
        "records"
      ],
      "execution_count": null,
      "outputs": [
        {
          "output_type": "execute_result",
          "data": {
            "text/plain": [
              "{'100': {'Expiry_Date': '12-DEC-2021',\n",
              "  'Qantity': 96,\n",
              "  'category': 'Drinks',\n",
              "  'price': 20,\n",
              "  'product_name': 'sprite'},\n",
              " '101': {'Expiry_Date': '12-DEC-2021',\n",
              "  'Qantity': 100,\n",
              "  'category': 'Drinks',\n",
              "  'price': 20,\n",
              "  'product_name': 'limka'},\n",
              " '102': {'Expiry_Date': '12-DEC-2021',\n",
              "  'Qantity': 100,\n",
              "  'category': 'Drinks',\n",
              "  'price': 20,\n",
              "  'product_name': 'mazza'},\n",
              " '103': {'Expiry_Date': '12-DEC-2021',\n",
              "  'Qantity': 100,\n",
              "  'category': 'Drinks',\n",
              "  'price': 20,\n",
              "  'product_name': 'red bull'},\n",
              " '104': {'Expiry_Date': '12-DEC-2021',\n",
              "  'Qantity': 100,\n",
              "  'category': 'Drinks',\n",
              "  'price': 20,\n",
              "  'product_name': 'Thumps-up'},\n",
              " '105': {'Expiry_Date': '12-DEC-2021',\n",
              "  'Qantity': 100,\n",
              "  'category': 'Drinks',\n",
              "  'price': 20,\n",
              "  'product_name': 'coke'},\n",
              " '106': {'Expiry_Date': '12-DEC-2021',\n",
              "  'Qantity': 100,\n",
              "  'category': 'Drinks',\n",
              "  'price': 20,\n",
              "  'product_name': 'pepsi'},\n",
              " '107': {'Expiry_Date': '12-DEC-2021',\n",
              "  'Qantity': 100,\n",
              "  'category': 'Drinks',\n",
              "  'price': 20,\n",
              "  'product_name': 'dew'},\n",
              " '108': {'Expiry_Date': '12-DEC-2021',\n",
              "  'Qantity': 100,\n",
              "  'category': 'Drinks',\n",
              "  'price': 20,\n",
              "  'product_name': 'fizz'},\n",
              " '109': {'Expiry_Date': '12-DEC-2021',\n",
              "  'Qantity': 100,\n",
              "  'category': 'Drinks',\n",
              "  'price': 20,\n",
              "  'product_name': 'fanta'},\n",
              " '110': {'Expiry_Date': '12-DEC-2021',\n",
              "  'Qantity': 100,\n",
              "  'category': 'Drinks',\n",
              "  'price': 20,\n",
              "  'product_name': 'pulpy orange'},\n",
              " '111': {'Expiry_Date': '12-DEC-2021',\n",
              "  'Qantity': 100,\n",
              "  'category': 'Drinks',\n",
              "  'price': 20,\n",
              "  'product_name': 'monster'},\n",
              " '112': {'Expiry_Date': '12-DEC-2021',\n",
              "  'Qantity': 100,\n",
              "  'category': 'chocolates',\n",
              "  'price': 20,\n",
              "  'product_name': 'snickers'},\n",
              " '113': {'Expiry_Date': '12-DEC-2021',\n",
              "  'Qantity': 100,\n",
              "  'category': 'chocolates',\n",
              "  'price': 20,\n",
              "  'product_name': 'kitkat'},\n",
              " '114': {'Expiry_Date': '12-DEC-2021',\n",
              "  'Qantity': 100,\n",
              "  'category': 'chocolates',\n",
              "  'price': 20,\n",
              "  'product_name': 'Dairy milk'},\n",
              " '115': {'Expiry_Date': '12-DEC-2021',\n",
              "  'Qantity': 100,\n",
              "  'category': 'chocolates',\n",
              "  'price': 20,\n",
              "  'product_name': 'five star'},\n",
              " '116': {'Expiry_Date': '12-DEC-2021',\n",
              "  'Qantity': 100,\n",
              "  'category': 'chocolates',\n",
              "  'price': 20,\n",
              "  'product_name': 'bounty'},\n",
              " '117': {'Expiry_Date': '12-DEC-2021',\n",
              "  'Qantity': 100,\n",
              "  'category': 'chocolates',\n",
              "  'price': 20,\n",
              "  'product_name': 'flake'},\n",
              " '118': {'Expiry_Date': '12-DEC-2021',\n",
              "  'Qantity': 100,\n",
              "  'category': 'chocolates',\n",
              "  'price': 20,\n",
              "  'product_name': 'aero'},\n",
              " '119': {'Expiry_Date': '12-DEC-2021',\n",
              "  'Qantity': 100,\n",
              "  'category': 'chocolates',\n",
              "  'price': 20,\n",
              "  'product_name': 'milky bar'},\n",
              " '120': {'Expiry_Date': '12-DEC-2021',\n",
              "  'Qantity': 100,\n",
              "  'category': 'fruits',\n",
              "  'price': 20,\n",
              "  'product_name': 'apple'},\n",
              " '121': {'Expiry_Date': '12-DEC-2021',\n",
              "  'Qantity': 100,\n",
              "  'category': 'fruits',\n",
              "  'price': 20,\n",
              "  'product_name': 'green apple'},\n",
              " '122': {'Expiry_Date': '12-DEC-2021',\n",
              "  'Qantity': 100,\n",
              "  'category': 'fruits',\n",
              "  'price': 20,\n",
              "  'product_name': 'grapes'},\n",
              " '123': {'Expiry_Date': '12-DEC-2021',\n",
              "  'Qantity': 100,\n",
              "  'category': 'fruits',\n",
              "  'price': 20,\n",
              "  'product_name': 'banana'},\n",
              " '124': {'Expiry_Date': '12-DEC-2021',\n",
              "  'Qantity': 100,\n",
              "  'category': 'fruits',\n",
              "  'price': 20,\n",
              "  'product_name': 'pappaya'},\n",
              " '125': {'Expiry_Date': '12-DEC-2021',\n",
              "  'Qantity': 100,\n",
              "  'category': 'biscuts',\n",
              "  'price': 20,\n",
              "  'product_name': 'dark fantasy'},\n",
              " '126': {'Expiry_Date': '12-DEC-2021',\n",
              "  'Qantity': 100,\n",
              "  'category': 'biscuts',\n",
              "  'price': 20,\n",
              "  'product_name': 'good day'},\n",
              " '127': {'Expiry_Date': '12-DEC-2021',\n",
              "  'Qantity': 100,\n",
              "  'category': 'biscuts',\n",
              "  'price': 20,\n",
              "  'product_name': 'parly-G'},\n",
              " '128': {'Expiry_Date': '12-DEC-2021',\n",
              "  'Qantity': 100,\n",
              "  'category': 'biscuts',\n",
              "  'price': 20,\n",
              "  'product_name': 'milk cookies'},\n",
              " '129': {'Expiry_Date': '12-DEC-2021',\n",
              "  'Qantity': 100,\n",
              "  'category': 'biscuts',\n",
              "  'price': 20,\n",
              "  'product_name': 'oreo'},\n",
              " '130': {'Expiry_Date': '12-DEC-2021',\n",
              "  'Qantity': 50,\n",
              "  'category': 'samosa',\n",
              "  'price': 20,\n",
              "  'product_name': 'sweet samosa'},\n",
              " '131': {'Expiry_Date': '12-DEC-2021',\n",
              "  'Qantity': 30,\n",
              "  'category': 'samosa',\n",
              "  'price': 20,\n",
              "  'product_name': 'corn samosa'},\n",
              " '132': {'Expiry_Date': '26-09-2021',\n",
              "  'category': 'Cakes',\n",
              "  'price': 250,\n",
              "  'product_name': 'Cake'}}"
            ]
          },
          "metadata": {},
          "execution_count": 18
        }
      ]
    }
  ]
}